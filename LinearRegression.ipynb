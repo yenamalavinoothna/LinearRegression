{
  "nbformat": 4,
  "nbformat_minor": 0,
  "metadata": {
    "colab": {
      "provenance": []
    },
    "kernelspec": {
      "name": "python3",
      "display_name": "Python 3"
    },
    "language_info": {
      "name": "python"
    }
  },
  "cells": [
    {
      "cell_type": "code",
      "source": [
        "from google.colab import drive\n",
        "drive.mount('/content/drive')"
      ],
      "metadata": {
        "colab": {
          "base_uri": "https://localhost:8080/"
        },
        "id": "MmZpgr6dlCrh",
        "outputId": "75fd9f13-f80e-4c63-aded-7224e97ac441"
      },
      "execution_count": 5,
      "outputs": [
        {
          "output_type": "stream",
          "name": "stdout",
          "text": [
            "Mounted at /content/drive\n"
          ]
        }
      ]
    },
    {
      "cell_type": "markdown",
      "source": [
        "Import libraries"
      ],
      "metadata": {
        "id": "_MCx-ayrpxj4"
      }
    },
    {
      "cell_type": "code",
      "source": [
        "import numpy as np\n",
        "import pandas as pd\n",
        "import matplotlib.pyplot as plt"
      ],
      "metadata": {
        "id": "sulYNUvXlWh1"
      },
      "execution_count": 4,
      "outputs": []
    },
    {
      "cell_type": "code",
      "source": [
        "data=pd.read_csv('/content/drive/MyDrive/Datasets/Salary_Data.csv')\n",
        "X=data.iloc[:,:-1].values\n",
        "Y=data.iloc[:,1].values"
      ],
      "metadata": {
        "id": "MUtd2sM8liad"
      },
      "execution_count": 6,
      "outputs": []
    },
    {
      "cell_type": "code",
      "source": [
        "from sklearn.model_selection import train_test_split\n",
        "X_train,x_test,Y_train,y_test=train_test_split(X,Y,test_size=1/3,random_state=0) \n"
      ],
      "metadata": {
        "id": "VjUV8pBalrVa"
      },
      "execution_count": 11,
      "outputs": []
    },
    {
      "cell_type": "code",
      "source": [
        "\n",
        "from sklearn.linear_model import LinearRegression\n",
        "regressor=LinearRegression()\n",
        "regressor.fit(X_train,Y_train)\n",
        "y_pred=regressor.predict(X_train)\n",
        "print('Predicted salaries of training data')\n",
        "print(y_pred)\n"
      ],
      "metadata": {
        "id": "ARNLTmCklyW_",
        "colab": {
          "base_uri": "https://localhost:8080/"
        },
        "outputId": "b71d7b66-10d3-4be6-8086-29fc2de119fd"
      },
      "execution_count": 12,
      "outputs": [
        {
          "output_type": "stream",
          "name": "stdout",
          "text": [
            "Predicted salaries of training data\n",
            "[ 53919.42532909  74480.49870396  56723.20806202  68872.93323808\n",
            " 103452.92027763  90368.60085726  38965.91742009 124948.58789682\n",
            "  54854.0195734   47377.2656189   81957.25265845  82891.84690277\n",
            "  61396.17928358  56723.20806202 110929.67423213  45508.07713028\n",
            "  37096.72893147  93172.3835902   72611.31021533  64199.96201652]\n"
          ]
        }
      ]
    },
    {
      "cell_type": "code",
      "source": [
        "plt.scatter(X_train,Y_train,color='red')\n",
        "plt.plot(X_train,regressor.predict(X_train),color='blue')\n",
        "plt.title('Salary Vs Experience')\n",
        "plt.xlabel(\"years of experience\")\n",
        "plt.ylabel('salary')\n",
        "plt.show()"
      ],
      "metadata": {
        "id": "1y8RVQHPl3bp",
        "colab": {
          "base_uri": "https://localhost:8080/",
          "height": 295
        },
        "outputId": "d00b2ab3-40ef-45cb-84c2-51341fd8dac0"
      },
      "execution_count": 10,
      "outputs": [
        {
          "output_type": "display_data",
          "data": {
            "text/plain": [
              "<Figure size 432x288 with 1 Axes>"
            ],
            "image/png": "[encoded data removed]"
          },
          "metadata": {
            "needs_background": "light"
          }
        }
      ]
    }
  ]
}