{
  "nbformat": 4,
  "nbformat_minor": 0,
  "metadata": {
    "colab": {
      "provenance": [],
      "mount_file_id": "1wvhuo8R-tw6Oti-eLL-UdGPPf8it_Pee",
      "authorship_tag": "ABX9TyM7CifTWGPerHMFB9r0+KqV"
    },
    "kernelspec": {
      "name": "python3",
      "display_name": "Python 3"
    },
    "language_info": {
      "name": "python"
    }
  },
  "cells": [
    {
      "cell_type": "code",
      "execution_count": 1,
      "metadata": {
        "id": "VkfsmKkJTNW7"
      },
      "outputs": [],
      "source": [
        "import numpy as np\n",
        "import matplotlib.pyplot as plt\n",
        "import pandas as pd\n"
      ]
    },
    {
      "cell_type": "code",
      "source": [
        "data=pd.read_csv('/content/drive/MyDrive/Datasets/Salary_Data.csv')\n",
        "x=data['YearsExperience']   \n",
        "y=data['Salary'] "
      ],
      "metadata": {
        "id": "AW_0tBlOToG9"
      },
      "execution_count": 2,
      "outputs": []
    },
    {
      "cell_type": "code",
      "source": [
        "def linearregression(x,y):\n",
        "    n=len(x)\n",
        "    x_mean=x.mean()\n",
        "    y_mean=y.mean()\n",
        "    #num=((x-x_mean)*(y-y_mean)).sum()\n",
        "    #den=((x-x_mean)**2).sum()\n",
        "    num=((x*y).sum())-(n*(x_mean*y_mean))\n",
        "    den=(x**2).sum()-(n*(x_mean**2))\n",
        "    B=num/den\n",
        "    A=y_mean-(B*x_mean)\n",
        "    line='y={}+{}x'.format(A,round(B,3))\n",
        "    return A,B,line"
      ],
      "metadata": {
        "id": "HLaMKQ1ETtuj"
      },
      "execution_count": 3,
      "outputs": []
    },
    {
      "cell_type": "code",
      "source": [
        "def correlation(x,y):\n",
        "    n=len(x)\n",
        "    num=(n*(x*y).sum())-((x.sum())*(y.sum()))\n",
        "    den=np.sqrt(((n*(x**2).sum())-(x.sum())**2)*((n*(y**2).sum())-(y.sum())**2))\n",
        "    r=num/den\n",
        "    return r"
      ],
      "metadata": {
        "id": "0HthGS1kTynB"
      },
      "execution_count": 4,
      "outputs": []
    },
    {
      "cell_type": "code",
      "source": [
        "def plotting():\n",
        "    A,B,line=linearregression(x,y)\n",
        "    plt.scatter(x,y,color='red')\n",
        "    plt.plot(x,A+(B*x),color='blue')\n",
        "    plt.title('Salary Vs Experience')\n",
        "    plt.xlabel(\"years of experience\")\n",
        "    plt.ylabel('salary')\n",
        "    plt.show()\n",
        "A,B,line=linearregression(x,y)"
      ],
      "metadata": {
        "id": "x0s0R_pCT25P"
      },
      "execution_count": 9,
      "outputs": []
    },
    {
      "cell_type": "code",
      "source": [
        "def predict(x):\n",
        "    y=A+B*x\n",
        "    print(y)\n",
        "    plotting()\n",
        "predict(x)"
      ],
      "metadata": {
        "colab": {
          "base_uri": "https://localhost:8080/",
          "height": 833
        },
        "id": "qgKc8YGBT7Pm",
        "outputId": "d5ddc35a-a86b-4c19-a6ae-186056e4a6b0"
      },
      "execution_count": 10,
      "outputs": [
        {
          "output_type": "stream",
          "name": "stdout",
          "text": [
            "0      36187.158752\n",
            "1      38077.151217\n",
            "2      39967.143681\n",
            "3      44692.124842\n",
            "4      46582.117306\n",
            "5      53197.090931\n",
            "6      54142.087163\n",
            "7      56032.079627\n",
            "8      56032.079627\n",
            "9      60757.060788\n",
            "10     62647.053252\n",
            "11     63592.049484\n",
            "12     63592.049484\n",
            "13     64537.045717\n",
            "14     68317.030645\n",
            "15     72097.015574\n",
            "16     73987.008038\n",
            "17     75877.000502\n",
            "18     81546.977895\n",
            "19     82491.974127\n",
            "20     90051.943985\n",
            "21     92886.932681\n",
            "22    100446.902538\n",
            "23    103281.891235\n",
            "24    108006.872395\n",
            "25    110841.861092\n",
            "26    115566.842252\n",
            "27    116511.838485\n",
            "28    123126.812110\n",
            "29    125016.804574\n",
            "Name: YearsExperience, dtype: float64\n"
          ]
        },
        {
          "output_type": "display_data",
          "data": {
            "text/plain": [
              "<Figure size 432x288 with 1 Axes>"
            ],
            "image/png": "[encoded data removed]"
          },
          "metadata": {
            "needs_background": "light"
          }
        }
      ]
    }
  ]
}